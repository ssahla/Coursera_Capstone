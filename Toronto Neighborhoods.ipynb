{
    "cells": [
        {
            "cell_type": "markdown",
            "metadata": {},
            "source": "# Part 1: Getting data from Wikipedia, cleaning and formatting"
        },
        {
            "cell_type": "markdown",
            "metadata": {},
            "source": "First, we import Pandas and load the tables from the Wikipedia page. The table we want is the first one on the page."
        },
        {
            "cell_type": "code",
            "execution_count": 1,
            "metadata": {},
            "outputs": [],
            "source": "import pandas as pd\ntables = pd.read_html(\"https://en.wikipedia.org/wiki/List_of_postal_codes_of_Canada:_M\")\ndf = pd.DataFrame(tables[0])"
        },
        {
            "cell_type": "markdown",
            "metadata": {},
            "source": "Next we 1) rename the columns, 2) drop the rows where Borough is \"Not assigned\", and 3) on rows where Neighborhood is \"Not assigned\" change it to same as Borough."
        },
        {
            "cell_type": "code",
            "execution_count": 2,
            "metadata": {},
            "outputs": [],
            "source": "df.columns = [\"PostalCode\", \"Borough\", \"Neighborhood\"]\ndf.drop(df[df[\"Borough\"] == \"Not assigned\"].index, inplace = True)\ndf.loc[df[\"Neighborhood\"] == \"Not assigned\"] = df[\"Borough\"]"
        },
        {
            "cell_type": "markdown",
            "metadata": {},
            "source": "Now we group the dataframe so that we have only one row per postal code and neighborhoods under that postal code are listed as a comma-separated list in the Neighborhood column."
        },
        {
            "cell_type": "code",
            "execution_count": 3,
            "metadata": {},
            "outputs": [],
            "source": "nbrs = df.groupby([\"PostalCode\", \"Borough\"])[\"Neighborhood\"].apply(lambda hoods: \", \".join(hoods)).reset_index()"
        },
        {
            "cell_type": "markdown",
            "metadata": {},
            "source": "Finally, we check the shape of the resulting dataframe."
        },
        {
            "cell_type": "code",
            "execution_count": 4,
            "metadata": {},
            "outputs": [
                {
                    "data": {
                        "text/plain": "(103, 3)"
                    },
                    "execution_count": 4,
                    "metadata": {},
                    "output_type": "execute_result"
                }
            ],
            "source": "nbrs.shape"
        },
        {
            "cell_type": "markdown",
            "metadata": {},
            "source": "# Part 2: Adding location data"
        },
        {
            "cell_type": "markdown",
            "metadata": {},
            "source": "First we install and import the Geocoder library and define a function to fetch coordinates for a given postal code."
        },
        {
            "cell_type": "code",
            "execution_count": 23,
            "metadata": {},
            "outputs": [
                {
                    "name": "stdout",
                    "output_type": "stream",
                    "text": "Solving environment: done\n\n# All requested packages already installed.\n\n"
                }
            ],
            "source": "!conda install -c conda-forge geocoder --yes\nimport geocoder\n\ndef lat_long(postal_code):\n    coords = None\n    while(coords is None):\n        g = geocoder.arcgis('{}, Toronto, Ontario'.format(postal_code))\n        # (Using arcgis instead of Google, because Google doesn't seem to work.)\n        coords = g.latlng\n    return coords[0], coords[1]"
        },
        {
            "cell_type": "markdown",
            "metadata": {},
            "source": "Next, we go through the rows of the dataframe, get the latitude and longitude for each postal code, and add them to two separate lists. Finally we insert the lists into the dataframe as new columns Latitude and Longitude."
        },
        {
            "cell_type": "code",
            "execution_count": 28,
            "metadata": {
                "scrolled": true
            },
            "outputs": [
                {
                    "name": "stdout",
                    "output_type": "stream",
                    "text": "Done.\n"
                }
            ],
            "source": "lat_list = []\nlong_list = []\ncounter = 1\nfor pc in nbrs[\"PostalCode\"]:\n    print(counter, end = '\\r')\n    lat, long = lat_long(pc)\n    lat_list.append(lat)\n    long_list.append(long)\n    counter += 1\nprint(\"Done.\")\nnbrs[\"Latitude\"] = lat_list\nnbrs[\"Longitude\"] = long_list"
        },
        {
            "cell_type": "markdown",
            "metadata": {},
            "source": "Let's check that it looks right:"
        },
        {
            "cell_type": "code",
            "execution_count": 25,
            "metadata": {},
            "outputs": [
                {
                    "data": {
                        "text/html": "<div>\n<style scoped>\n    .dataframe tbody tr th:only-of-type {\n        vertical-align: middle;\n    }\n\n    .dataframe tbody tr th {\n        vertical-align: top;\n    }\n\n    .dataframe thead th {\n        text-align: right;\n    }\n</style>\n<table border=\"1\" class=\"dataframe\">\n  <thead>\n    <tr style=\"text-align: right;\">\n      <th></th>\n      <th>PostalCode</th>\n      <th>Borough</th>\n      <th>Neighborhood</th>\n      <th>Latitude</th>\n      <th>Longitude</th>\n    </tr>\n  </thead>\n  <tbody>\n    <tr>\n      <th>0</th>\n      <td>M1B</td>\n      <td>Scarborough</td>\n      <td>Rouge, Malvern</td>\n      <td>43.811525</td>\n      <td>-79.195517</td>\n    </tr>\n    <tr>\n      <th>1</th>\n      <td>M1C</td>\n      <td>Scarborough</td>\n      <td>Highland Creek, Rouge Hill, Port Union</td>\n      <td>43.785665</td>\n      <td>-79.158725</td>\n    </tr>\n    <tr>\n      <th>2</th>\n      <td>M1E</td>\n      <td>Scarborough</td>\n      <td>Guildwood, Morningside, West Hill</td>\n      <td>43.765815</td>\n      <td>-79.175193</td>\n    </tr>\n    <tr>\n      <th>3</th>\n      <td>M1G</td>\n      <td>Scarborough</td>\n      <td>Woburn</td>\n      <td>43.768369</td>\n      <td>-79.217590</td>\n    </tr>\n    <tr>\n      <th>4</th>\n      <td>M1H</td>\n      <td>Scarborough</td>\n      <td>Cedarbrae</td>\n      <td>43.769688</td>\n      <td>-79.239440</td>\n    </tr>\n  </tbody>\n</table>\n</div>",
                        "text/plain": "  PostalCode      Borough                            Neighborhood   Latitude  \\\n0        M1B  Scarborough                          Rouge, Malvern  43.811525   \n1        M1C  Scarborough  Highland Creek, Rouge Hill, Port Union  43.785665   \n2        M1E  Scarborough       Guildwood, Morningside, West Hill  43.765815   \n3        M1G  Scarborough                                  Woburn  43.768369   \n4        M1H  Scarborough                               Cedarbrae  43.769688   \n\n   Longitude  \n0 -79.195517  \n1 -79.158725  \n2 -79.175193  \n3 -79.217590  \n4 -79.239440  "
                    },
                    "execution_count": 25,
                    "metadata": {},
                    "output_type": "execute_result"
                }
            ],
            "source": "nbrs.head()"
        },
        {
            "cell_type": "code",
            "execution_count": null,
            "metadata": {},
            "outputs": [],
            "source": ""
        }
    ],
    "metadata": {
        "kernelspec": {
            "display_name": "Python 3.6",
            "language": "python",
            "name": "python3"
        },
        "language_info": {
            "codemirror_mode": {
                "name": "ipython",
                "version": 3
            },
            "file_extension": ".py",
            "mimetype": "text/x-python",
            "name": "python",
            "nbconvert_exporter": "python",
            "pygments_lexer": "ipython3",
            "version": "3.6.9"
        }
    },
    "nbformat": 4,
    "nbformat_minor": 1
}