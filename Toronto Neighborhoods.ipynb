{
    "cells": [
        {
            "cell_type": "markdown",
            "metadata": {},
            "source": "First, we import Pandas and load the tables from the Wikipedia page. The table we want is the first one on the page."
        },
        {
            "cell_type": "code",
            "execution_count": 71,
            "metadata": {},
            "outputs": [],
            "source": "import pandas as pd\ntables = pd.read_html(\"https://en.wikipedia.org/wiki/List_of_postal_codes_of_Canada:_M\")\ndf = pd.DataFrame(tables[0])"
        },
        {
            "cell_type": "markdown",
            "metadata": {},
            "source": "Next we 1) rename the columns, 2) drop the rows where Borough is \"Not assigned\", and 3) on rows where Neighborhood is \"Not assigned\" change it to same as Borough."
        },
        {
            "cell_type": "code",
            "execution_count": 72,
            "metadata": {},
            "outputs": [],
            "source": "df.columns = [\"PostalCode\", \"Borough\", \"Neighborhood\"]\ndf.drop(df[df[\"Borough\"] == \"Not assigned\"].index, inplace = True)\ndf.loc[df[\"Neighborhood\"] == \"Not assigned\"] = df[\"Borough\"]"
        },
        {
            "cell_type": "markdown",
            "metadata": {},
            "source": "Now we group the dataframe so that we have only one row per postal code and neighborhoods under that postal code are listed as a comma-separated list in the Neighborhood column."
        },
        {
            "cell_type": "code",
            "execution_count": 73,
            "metadata": {},
            "outputs": [],
            "source": "nbrs = df.groupby([\"PostalCode\", \"Borough\"])[\"Neighborhood\"].apply(lambda hoods: \", \".join(hoods)).reset_index()"
        },
        {
            "cell_type": "markdown",
            "metadata": {},
            "source": "Finally, we check the shape of the resulting dataframe."
        },
        {
            "cell_type": "code",
            "execution_count": 76,
            "metadata": {},
            "outputs": [
                {
                    "data": {
                        "text/plain": "(103, 3)"
                    },
                    "execution_count": 76,
                    "metadata": {},
                    "output_type": "execute_result"
                }
            ],
            "source": "nbrs.shape"
        },
        {
            "cell_type": "code",
            "execution_count": null,
            "metadata": {},
            "outputs": [],
            "source": ""
        }
    ],
    "metadata": {
        "kernelspec": {
            "display_name": "Python 3.6",
            "language": "python",
            "name": "python3"
        },
        "language_info": {
            "codemirror_mode": {
                "name": "ipython",
                "version": 3
            },
            "file_extension": ".py",
            "mimetype": "text/x-python",
            "name": "python",
            "nbconvert_exporter": "python",
            "pygments_lexer": "ipython3",
            "version": "3.6.9"
        }
    },
    "nbformat": 4,
    "nbformat_minor": 1
}